{
 "cells": [
  {
   "cell_type": "code",
   "execution_count": 22,
   "id": "3b20a306",
   "metadata": {},
   "outputs": [
    {
     "name": "stdout",
     "output_type": "stream",
     "text": [
      "\n"
     ]
    }
   ],
   "source": [
    "from selenium import webdriver\n",
    "from webdriver_manager.chrome import ChromeDriverManager\n",
    "from selenium.webdriver.chrome.service import Service\n",
    "\n",
    "servico = Service(ChromeDriverManager().install())\n",
    "\n",
    "navegador = webdriver.Chrome(service=servico)\n",
    "\n",
    "navegador.maximize_window()\n",
    "\n",
    "navegador.get('https://hashtag.eadplataforma.com/')\n",
    "\n",
    "navegador.find_element('xpath', '//*[@id=\"navbar\"]/ul/li[3]/a').click()\n",
    "\n",
    "navegador.find_element('xpath', '//*[@id=\"email\"]').send_keys(\"e-mail\")\n",
    "\n",
    "navegador.find_element('xpath', '//*[@id=\"senha\"]').send_keys(\"senha\")\n",
    "\n",
    "navegador.find_element('xpath', '//*[@id=\"btn_login\"]').click()\n",
    "\n",
    "navegador.find_element('xpath', '/html/body/div[1]/div/a').click()\n",
    "\n",
    "navegador.find_element('xpath', \n",
    "                '/html/body/main/div[1]/div[3]/div/div[1]/div/div/div[1]/div/div/div/a[2]/span').click()\n"
   ]
  },
  {
   "cell_type": "code",
   "execution_count": 14,
   "id": "fa6f5ef2",
   "metadata": {},
   "outputs": [],
   "source": []
  }
 ],
 "metadata": {
  "kernelspec": {
   "display_name": "Python 3 (ipykernel)",
   "language": "python",
   "name": "python3"
  },
  "language_info": {
   "codemirror_mode": {
    "name": "ipython",
    "version": 3
   },
   "file_extension": ".py",
   "mimetype": "text/x-python",
   "name": "python",
   "nbconvert_exporter": "python",
   "pygments_lexer": "ipython3",
   "version": "3.9.12"
  }
 },
 "nbformat": 4,
 "nbformat_minor": 5
}
